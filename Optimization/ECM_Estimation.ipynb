{
 "cells": [
  {
   "cell_type": "markdown",
   "metadata": {},
   "source": [
    "# Estimating and Error Components Model via GMM\n",
    "### by [Jason DeBacker](https://jasondebacker.com), September 2025\n",
    "\n",
    "This Jupyter Notebook illustrates how estimate the stationary error components model used in DeBacker, Heim, Panousi, Ramnath, and Vidangos (*Brookings Papers on Economic Activity*, Spring 2013) (hereafter, DHPRV).\n",
    "\n",
    "## Moment conditions\n",
    "\n",
    "The theoretical moment conditions are given by:\n",
    "\n",
    "$$\n",
    "g_{a,t,k}(\\Theta_{0}) = E \\left[cov(\\xi^{i}_{a,t},\\xi^{i}_{a+k,t+k})\\right] -cov(a,t,k; \\Theta_{0}) = 0\n",
    "$$\n",
    "\n",
    "Where $cov(a,t,k)$ are the theoretical covariances for individuals of age $a$, in year $t$, at lead $k$.  These are given as:\n",
    "\n",
    "$$\n",
    "\\begin{split}\n",
    "cov(a,t,k; \\Theta)  = & \\sigma^{2}_{\\alpha} + \\psi^{k}var(p^{i}_{a,t}) + \\mathbf{1}[k=0](1+\\mathbf{1}[a\\geq2]\\theta^{2}_{1}+\\mathbf{1}[a\\geq3]\\theta^{2}_{2})\\sigma^{2}_{\\varepsilon} + \\\\\n",
    "& \\mathbf{1}[k=1](\\theta_{1}+\\mathbf{1}[a\\geq2]\\theta_{1}\\theta_{2})\\sigma^{2}_{\\varepsilon} + \\\\\n",
    "& \\mathbf{1}[k=2]\\theta_{2}\\sigma^{2}_{\\varepsilon}\n",
    "\\end{split}\n",
    "$$\n",
    "\n",
    "The sample analogue to these conditions are:\n",
    "\n",
    "$$\n",
    "\\tilde{g}_{a,t,k}(\\Theta_{0}) = \\frac{\\sum_{i=1}^{n}(\\xi^{i}_{a,t}\\xi^{i}_{a+k,t+k})}{n-1} -cov(a,t,k; \\Theta_{0}) = 0\n",
    "$$\n",
    "\n",
    "\n",
    "Thus the first step in our method of moments estimator is to compute the covariances from the data.\n",
    "\n",
    "## The data\n",
    "\n",
    "We'll begin the exercise in this notebook by reading in a Stata data file that contains the computed sample covariances.  These were constructed from a panel of tax returns spanning the 1987 to 2009 period.  The unit of analysis are males, aged 25-60 with at least \\$2,575 (in 2005\\$) in labor income.  Labor income is defined as wages and salaries plus self-employment income.\n",
    "\n",
    "The covariances are computed on the residuals from regressing the log of labor income on dummy variables for age, separately by year.\n",
    "\n",
    "The covariances are then computed for all possible combinations of age, year, and lead.\n",
    "\n",
    "Let's read in the data and look at it."
   ]
  },
  {
   "cell_type": "code",
   "execution_count": 5,
   "metadata": {},
   "outputs": [],
   "source": [
    "# import packages we'll use here\n",
    "import pandas as pd\n",
    "import numpy as np\n",
    "import scipy.optimize as opt"
   ]
  },
  {
   "cell_type": "code",
   "execution_count": 7,
   "metadata": {},
   "outputs": [
    {
     "data": {
      "application/vnd.microsoft.datawrangler.viewer.v0+json": {
       "columns": [
        {
         "name": "index",
         "rawType": "int64",
         "type": "integer"
        },
        {
         "name": "yrvar",
         "rawType": "int16",
         "type": "integer"
        },
        {
         "name": "hvar",
         "rawType": "int8",
         "type": "integer"
        },
        {
         "name": "jvar",
         "rawType": "int8",
         "type": "integer"
        },
        {
         "name": "hpjvar",
         "rawType": "int8",
         "type": "integer"
        },
        {
         "name": "covvar",
         "rawType": "float32",
         "type": "float"
        },
        {
         "name": "wgtvar",
         "rawType": "float32",
         "type": "float"
        },
        {
         "name": "covvarfd",
         "rawType": "float32",
         "type": "float"
        },
        {
         "name": "wgtvarfd",
         "rawType": "float32",
         "type": "float"
        }
       ],
       "ref": "f71115d5-bcb8-4d13-9c09-1bf250dbac5c",
       "rows": [
        [
         "0",
         "1987",
         "1",
         "0",
         "1",
         "0.438955",
         "329.0",
         null,
         null
        ],
        [
         "1",
         "1987",
         "1",
         "1",
         "2",
         "0.289566",
         "306.0",
         null,
         null
        ],
        [
         "2",
         "1987",
         "1",
         "2",
         "3",
         "0.26152468",
         "302.0",
         null,
         null
        ],
        [
         "3",
         "1987",
         "1",
         "3",
         "4",
         "0.23524544",
         "290.0",
         null,
         null
        ],
        [
         "4",
         "1987",
         "1",
         "4",
         "5",
         "0.17774367",
         "283.0",
         null,
         null
        ]
       ],
       "shape": {
        "columns": 8,
        "rows": 5
       }
      },
      "text/html": [
       "<div>\n",
       "<style scoped>\n",
       "    .dataframe tbody tr th:only-of-type {\n",
       "        vertical-align: middle;\n",
       "    }\n",
       "\n",
       "    .dataframe tbody tr th {\n",
       "        vertical-align: top;\n",
       "    }\n",
       "\n",
       "    .dataframe thead th {\n",
       "        text-align: right;\n",
       "    }\n",
       "</style>\n",
       "<table border=\"1\" class=\"dataframe\">\n",
       "  <thead>\n",
       "    <tr style=\"text-align: right;\">\n",
       "      <th></th>\n",
       "      <th>yrvar</th>\n",
       "      <th>hvar</th>\n",
       "      <th>jvar</th>\n",
       "      <th>hpjvar</th>\n",
       "      <th>covvar</th>\n",
       "      <th>wgtvar</th>\n",
       "      <th>covvarfd</th>\n",
       "      <th>wgtvarfd</th>\n",
       "    </tr>\n",
       "  </thead>\n",
       "  <tbody>\n",
       "    <tr>\n",
       "      <th>0</th>\n",
       "      <td>1987</td>\n",
       "      <td>1</td>\n",
       "      <td>0</td>\n",
       "      <td>1</td>\n",
       "      <td>0.438955</td>\n",
       "      <td>329.0</td>\n",
       "      <td>NaN</td>\n",
       "      <td>NaN</td>\n",
       "    </tr>\n",
       "    <tr>\n",
       "      <th>1</th>\n",
       "      <td>1987</td>\n",
       "      <td>1</td>\n",
       "      <td>1</td>\n",
       "      <td>2</td>\n",
       "      <td>0.289566</td>\n",
       "      <td>306.0</td>\n",
       "      <td>NaN</td>\n",
       "      <td>NaN</td>\n",
       "    </tr>\n",
       "    <tr>\n",
       "      <th>2</th>\n",
       "      <td>1987</td>\n",
       "      <td>1</td>\n",
       "      <td>2</td>\n",
       "      <td>3</td>\n",
       "      <td>0.261525</td>\n",
       "      <td>302.0</td>\n",
       "      <td>NaN</td>\n",
       "      <td>NaN</td>\n",
       "    </tr>\n",
       "    <tr>\n",
       "      <th>3</th>\n",
       "      <td>1987</td>\n",
       "      <td>1</td>\n",
       "      <td>3</td>\n",
       "      <td>4</td>\n",
       "      <td>0.235245</td>\n",
       "      <td>290.0</td>\n",
       "      <td>NaN</td>\n",
       "      <td>NaN</td>\n",
       "    </tr>\n",
       "    <tr>\n",
       "      <th>4</th>\n",
       "      <td>1987</td>\n",
       "      <td>1</td>\n",
       "      <td>4</td>\n",
       "      <td>5</td>\n",
       "      <td>0.177744</td>\n",
       "      <td>283.0</td>\n",
       "      <td>NaN</td>\n",
       "      <td>NaN</td>\n",
       "    </tr>\n",
       "  </tbody>\n",
       "</table>\n",
       "</div>"
      ],
      "text/plain": [
       "   yrvar  hvar  jvar  hpjvar    covvar  wgtvar  covvarfd  wgtvarfd\n",
       "0   1987     1     0       1  0.438955   329.0       NaN       NaN\n",
       "1   1987     1     1       2  0.289566   306.0       NaN       NaN\n",
       "2   1987     1     2       3  0.261525   302.0       NaN       NaN\n",
       "3   1987     1     3       4  0.235245   290.0       NaN       NaN\n",
       "4   1987     1     4       5  0.177744   283.0       NaN       NaN"
      ]
     },
     "execution_count": 7,
     "metadata": {},
     "output_type": "execute_result"
    }
   ],
   "source": [
    "# Read in the covariance data\n",
    "covs_data = pd.read_stata('CovsData_labinc_CAL.dta')\n",
    "covs_data.head(n=5)"
   ]
  },
  {
   "cell_type": "code",
   "execution_count": 8,
   "metadata": {},
   "outputs": [
    {
     "data": {
      "application/vnd.microsoft.datawrangler.viewer.v0+json": {
       "columns": [
        {
         "name": "index",
         "rawType": "object",
         "type": "string"
        },
        {
         "name": "yrvar",
         "rawType": "float64",
         "type": "float"
        },
        {
         "name": "hvar",
         "rawType": "float64",
         "type": "float"
        },
        {
         "name": "jvar",
         "rawType": "float64",
         "type": "float"
        },
        {
         "name": "hpjvar",
         "rawType": "float64",
         "type": "float"
        },
        {
         "name": "covvar",
         "rawType": "float64",
         "type": "float"
        },
        {
         "name": "wgtvar",
         "rawType": "float64",
         "type": "float"
        },
        {
         "name": "covvarfd",
         "rawType": "float64",
         "type": "float"
        },
        {
         "name": "wgtvarfd",
         "rawType": "float64",
         "type": "float"
        }
       ],
       "ref": "6cee4a2d-cd48-46e7-b039-60b8c8299f5c",
       "rows": [
        [
         "count",
         "7912.0",
         "7912.0",
         "7912.0",
         "7912.0",
         "7912.0",
         "7912.0",
         "7084.0",
         "7084.0"
        ],
        [
         "mean",
         "1994.8662790697674",
         "15.366279069767442",
         "6.267441860465116",
         "21.63372093023256",
         "0.4202914535999298",
         "232.5832977294922",
         "0.013805522583425045",
         "213.8613739013672"
        ],
        [
         "std",
         "5.652031372372516",
         "9.071330160206182",
         "5.1071454132107315",
         "9.071330160206182",
         "0.1426180750131607",
         "51.06300735473633",
         "0.05992240458726883",
         "45.46181106567383"
        ],
        [
         "min",
         "1987.0",
         "1.0",
         "0.0",
         "1.0",
         "0.08942510932683945",
         "81.0",
         "-0.11750690639019012",
         "76.0"
        ],
        [
         "25%",
         "1990.0",
         "8.0",
         "2.0",
         "15.0",
         "0.31883014738559723",
         "201.0",
         "-0.01155192218720913",
         "186.0"
        ],
        [
         "50%",
         "1994.0",
         "15.0",
         "5.0",
         "22.0",
         "0.4038436859846115",
         "239.0",
         "-0.0017088876338675618",
         "218.0"
        ],
        [
         "75%",
         "1999.0",
         "22.0",
         "10.0",
         "29.0",
         "0.5012449622154236",
         "268.0",
         "0.009143151342868805",
         "245.0"
        ],
        [
         "max",
         "2009.0",
         "36.0",
         "22.0",
         "36.0",
         "1.0314527750015259",
         "367.0",
         "0.3779316544532776",
         "342.0"
        ]
       ],
       "shape": {
        "columns": 8,
        "rows": 8
       }
      },
      "text/html": [
       "<div>\n",
       "<style scoped>\n",
       "    .dataframe tbody tr th:only-of-type {\n",
       "        vertical-align: middle;\n",
       "    }\n",
       "\n",
       "    .dataframe tbody tr th {\n",
       "        vertical-align: top;\n",
       "    }\n",
       "\n",
       "    .dataframe thead th {\n",
       "        text-align: right;\n",
       "    }\n",
       "</style>\n",
       "<table border=\"1\" class=\"dataframe\">\n",
       "  <thead>\n",
       "    <tr style=\"text-align: right;\">\n",
       "      <th></th>\n",
       "      <th>yrvar</th>\n",
       "      <th>hvar</th>\n",
       "      <th>jvar</th>\n",
       "      <th>hpjvar</th>\n",
       "      <th>covvar</th>\n",
       "      <th>wgtvar</th>\n",
       "      <th>covvarfd</th>\n",
       "      <th>wgtvarfd</th>\n",
       "    </tr>\n",
       "  </thead>\n",
       "  <tbody>\n",
       "    <tr>\n",
       "      <th>count</th>\n",
       "      <td>7912.000000</td>\n",
       "      <td>7912.000000</td>\n",
       "      <td>7912.000000</td>\n",
       "      <td>7912.000000</td>\n",
       "      <td>7912.000000</td>\n",
       "      <td>7912.000000</td>\n",
       "      <td>7084.000000</td>\n",
       "      <td>7084.000000</td>\n",
       "    </tr>\n",
       "    <tr>\n",
       "      <th>mean</th>\n",
       "      <td>1994.866279</td>\n",
       "      <td>15.366279</td>\n",
       "      <td>6.267442</td>\n",
       "      <td>21.633721</td>\n",
       "      <td>0.420291</td>\n",
       "      <td>232.583298</td>\n",
       "      <td>0.013806</td>\n",
       "      <td>213.861374</td>\n",
       "    </tr>\n",
       "    <tr>\n",
       "      <th>std</th>\n",
       "      <td>5.652031</td>\n",
       "      <td>9.071330</td>\n",
       "      <td>5.107145</td>\n",
       "      <td>9.071330</td>\n",
       "      <td>0.142618</td>\n",
       "      <td>51.063007</td>\n",
       "      <td>0.059922</td>\n",
       "      <td>45.461811</td>\n",
       "    </tr>\n",
       "    <tr>\n",
       "      <th>min</th>\n",
       "      <td>1987.000000</td>\n",
       "      <td>1.000000</td>\n",
       "      <td>0.000000</td>\n",
       "      <td>1.000000</td>\n",
       "      <td>0.089425</td>\n",
       "      <td>81.000000</td>\n",
       "      <td>-0.117507</td>\n",
       "      <td>76.000000</td>\n",
       "    </tr>\n",
       "    <tr>\n",
       "      <th>25%</th>\n",
       "      <td>1990.000000</td>\n",
       "      <td>8.000000</td>\n",
       "      <td>2.000000</td>\n",
       "      <td>15.000000</td>\n",
       "      <td>0.318830</td>\n",
       "      <td>201.000000</td>\n",
       "      <td>-0.011552</td>\n",
       "      <td>186.000000</td>\n",
       "    </tr>\n",
       "    <tr>\n",
       "      <th>50%</th>\n",
       "      <td>1994.000000</td>\n",
       "      <td>15.000000</td>\n",
       "      <td>5.000000</td>\n",
       "      <td>22.000000</td>\n",
       "      <td>0.403844</td>\n",
       "      <td>239.000000</td>\n",
       "      <td>-0.001709</td>\n",
       "      <td>218.000000</td>\n",
       "    </tr>\n",
       "    <tr>\n",
       "      <th>75%</th>\n",
       "      <td>1999.000000</td>\n",
       "      <td>22.000000</td>\n",
       "      <td>10.000000</td>\n",
       "      <td>29.000000</td>\n",
       "      <td>0.501245</td>\n",
       "      <td>268.000000</td>\n",
       "      <td>0.009143</td>\n",
       "      <td>245.000000</td>\n",
       "    </tr>\n",
       "    <tr>\n",
       "      <th>max</th>\n",
       "      <td>2009.000000</td>\n",
       "      <td>36.000000</td>\n",
       "      <td>22.000000</td>\n",
       "      <td>36.000000</td>\n",
       "      <td>1.031453</td>\n",
       "      <td>367.000000</td>\n",
       "      <td>0.377932</td>\n",
       "      <td>342.000000</td>\n",
       "    </tr>\n",
       "  </tbody>\n",
       "</table>\n",
       "</div>"
      ],
      "text/plain": [
       "             yrvar         hvar         jvar       hpjvar       covvar  \\\n",
       "count  7912.000000  7912.000000  7912.000000  7912.000000  7912.000000   \n",
       "mean   1994.866279    15.366279     6.267442    21.633721     0.420291   \n",
       "std       5.652031     9.071330     5.107145     9.071330     0.142618   \n",
       "min    1987.000000     1.000000     0.000000     1.000000     0.089425   \n",
       "25%    1990.000000     8.000000     2.000000    15.000000     0.318830   \n",
       "50%    1994.000000    15.000000     5.000000    22.000000     0.403844   \n",
       "75%    1999.000000    22.000000    10.000000    29.000000     0.501245   \n",
       "max    2009.000000    36.000000    22.000000    36.000000     1.031453   \n",
       "\n",
       "            wgtvar     covvarfd     wgtvarfd  \n",
       "count  7912.000000  7084.000000  7084.000000  \n",
       "mean    232.583298     0.013806   213.861374  \n",
       "std      51.063007     0.059922    45.461811  \n",
       "min      81.000000    -0.117507    76.000000  \n",
       "25%     201.000000    -0.011552   186.000000  \n",
       "50%     239.000000    -0.001709   218.000000  \n",
       "75%     268.000000     0.009143   245.000000  \n",
       "max     367.000000     0.377932   342.000000  "
      ]
     },
     "execution_count": 8,
     "metadata": {},
     "output_type": "execute_result"
    }
   ],
   "source": [
    "covs_data.describe()"
   ]
  },
  {
   "cell_type": "markdown",
   "metadata": {},
   "source": [
    "We can see there are 7,912 different covariances measured from the data (we'll ignore the \"fd\", or first-differenced\" covariances, and just estimate the model for the levels here).\n",
    "\n",
    "The variables names are as follows:\n",
    "* `yrvar` = year\n",
    "* `hvar` = age\n",
    "* `jvar` = lead\n",
    "* `hpjvar` = age + lead\n",
    "* `covvar` = covariance\n",
    "* `wgtvar` = sample weights = number of observations used to compute the sample covariance.\n",
    "\n",
    "# Clean the data\n",
    "\n",
    "Now let's make a few adjustments to these data made in DHPRV."
   ]
  },
  {
   "cell_type": "code",
   "execution_count": 9,
   "metadata": {},
   "outputs": [
    {
     "data": {
      "application/vnd.microsoft.datawrangler.viewer.v0+json": {
       "columns": [
        {
         "name": "index",
         "rawType": "object",
         "type": "string"
        },
        {
         "name": "yrvar",
         "rawType": "float64",
         "type": "float"
        },
        {
         "name": "hvar",
         "rawType": "float64",
         "type": "float"
        },
        {
         "name": "jvar",
         "rawType": "float64",
         "type": "float"
        },
        {
         "name": "hpjvar",
         "rawType": "float64",
         "type": "float"
        },
        {
         "name": "covvar",
         "rawType": "float64",
         "type": "float"
        },
        {
         "name": "wgtvar",
         "rawType": "float64",
         "type": "float"
        },
        {
         "name": "covvarfd",
         "rawType": "float64",
         "type": "float"
        },
        {
         "name": "wgtvarfd",
         "rawType": "float64",
         "type": "float"
        },
        {
         "name": "cohort",
         "rawType": "float64",
         "type": "float"
        },
        {
         "name": "yearpj",
         "rawType": "float64",
         "type": "float"
        }
       ],
       "ref": "04452a74-4d00-403f-8fc4-02a6046b4232",
       "rows": [
        [
         "count",
         "7912.0",
         "7912.0",
         "7912.0",
         "7912.0",
         "7912.0",
         "7912.0",
         "7084.0",
         "7084.0",
         "7912.0",
         "7912.0"
        ],
        [
         "mean",
         "1994.8662790697674",
         "15.366279069767442",
         "6.267441860465116",
         "21.63372093023256",
         "0.4202914535999298",
         "232.5832977294922",
         "0.013805522583425045",
         "213.8613739013672",
         "1980.5",
         "2001.1337209302326"
        ],
        [
         "std",
         "5.652031372372516",
         "9.071330160206182",
         "5.1071454132107315",
         "9.071330160206182",
         "0.1426180750131607",
         "51.06300735473633",
         "0.05992240458726883",
         "45.46181106567383",
         "10.059474259319407",
         "5.652031372372516"
        ],
        [
         "min",
         "1987.0",
         "1.0",
         "0.0",
         "1.0",
         "0.08942510932683945",
         "81.0",
         "-0.11750690639019012",
         "76.0",
         "1952.0",
         "1987.0"
        ],
        [
         "25%",
         "1990.0",
         "8.0",
         "2.0",
         "15.0",
         "0.31883014738559723",
         "201.0",
         "-0.01155192218720913",
         "186.0",
         "1973.0",
         "1997.0"
        ],
        [
         "50%",
         "1994.0",
         "15.0",
         "5.0",
         "22.0",
         "0.4038436859846115",
         "239.0",
         "-0.0017088876338675618",
         "218.0",
         "1980.5",
         "2002.0"
        ],
        [
         "75%",
         "1999.0",
         "22.0",
         "10.0",
         "29.0",
         "0.5012449622154236",
         "268.0",
         "0.009143151342868805",
         "245.0",
         "1988.0",
         "2006.0"
        ],
        [
         "max",
         "2009.0",
         "36.0",
         "22.0",
         "36.0",
         "1.0314527750015259",
         "367.0",
         "0.3779316544532776",
         "342.0",
         "2009.0",
         "2009.0"
        ]
       ],
       "shape": {
        "columns": 10,
        "rows": 8
       }
      },
      "text/html": [
       "<div>\n",
       "<style scoped>\n",
       "    .dataframe tbody tr th:only-of-type {\n",
       "        vertical-align: middle;\n",
       "    }\n",
       "\n",
       "    .dataframe tbody tr th {\n",
       "        vertical-align: top;\n",
       "    }\n",
       "\n",
       "    .dataframe thead th {\n",
       "        text-align: right;\n",
       "    }\n",
       "</style>\n",
       "<table border=\"1\" class=\"dataframe\">\n",
       "  <thead>\n",
       "    <tr style=\"text-align: right;\">\n",
       "      <th></th>\n",
       "      <th>yrvar</th>\n",
       "      <th>hvar</th>\n",
       "      <th>jvar</th>\n",
       "      <th>hpjvar</th>\n",
       "      <th>covvar</th>\n",
       "      <th>wgtvar</th>\n",
       "      <th>covvarfd</th>\n",
       "      <th>wgtvarfd</th>\n",
       "      <th>cohort</th>\n",
       "      <th>yearpj</th>\n",
       "    </tr>\n",
       "  </thead>\n",
       "  <tbody>\n",
       "    <tr>\n",
       "      <th>count</th>\n",
       "      <td>7912.000000</td>\n",
       "      <td>7912.000000</td>\n",
       "      <td>7912.000000</td>\n",
       "      <td>7912.000000</td>\n",
       "      <td>7912.000000</td>\n",
       "      <td>7912.000000</td>\n",
       "      <td>7084.000000</td>\n",
       "      <td>7084.000000</td>\n",
       "      <td>7912.000000</td>\n",
       "      <td>7912.000000</td>\n",
       "    </tr>\n",
       "    <tr>\n",
       "      <th>mean</th>\n",
       "      <td>1994.866279</td>\n",
       "      <td>15.366279</td>\n",
       "      <td>6.267442</td>\n",
       "      <td>21.633721</td>\n",
       "      <td>0.420291</td>\n",
       "      <td>232.583298</td>\n",
       "      <td>0.013806</td>\n",
       "      <td>213.861374</td>\n",
       "      <td>1980.500000</td>\n",
       "      <td>2001.133721</td>\n",
       "    </tr>\n",
       "    <tr>\n",
       "      <th>std</th>\n",
       "      <td>5.652031</td>\n",
       "      <td>9.071330</td>\n",
       "      <td>5.107145</td>\n",
       "      <td>9.071330</td>\n",
       "      <td>0.142618</td>\n",
       "      <td>51.063007</td>\n",
       "      <td>0.059922</td>\n",
       "      <td>45.461811</td>\n",
       "      <td>10.059474</td>\n",
       "      <td>5.652031</td>\n",
       "    </tr>\n",
       "    <tr>\n",
       "      <th>min</th>\n",
       "      <td>1987.000000</td>\n",
       "      <td>1.000000</td>\n",
       "      <td>0.000000</td>\n",
       "      <td>1.000000</td>\n",
       "      <td>0.089425</td>\n",
       "      <td>81.000000</td>\n",
       "      <td>-0.117507</td>\n",
       "      <td>76.000000</td>\n",
       "      <td>1952.000000</td>\n",
       "      <td>1987.000000</td>\n",
       "    </tr>\n",
       "    <tr>\n",
       "      <th>25%</th>\n",
       "      <td>1990.000000</td>\n",
       "      <td>8.000000</td>\n",
       "      <td>2.000000</td>\n",
       "      <td>15.000000</td>\n",
       "      <td>0.318830</td>\n",
       "      <td>201.000000</td>\n",
       "      <td>-0.011552</td>\n",
       "      <td>186.000000</td>\n",
       "      <td>1973.000000</td>\n",
       "      <td>1997.000000</td>\n",
       "    </tr>\n",
       "    <tr>\n",
       "      <th>50%</th>\n",
       "      <td>1994.000000</td>\n",
       "      <td>15.000000</td>\n",
       "      <td>5.000000</td>\n",
       "      <td>22.000000</td>\n",
       "      <td>0.403844</td>\n",
       "      <td>239.000000</td>\n",
       "      <td>-0.001709</td>\n",
       "      <td>218.000000</td>\n",
       "      <td>1980.500000</td>\n",
       "      <td>2002.000000</td>\n",
       "    </tr>\n",
       "    <tr>\n",
       "      <th>75%</th>\n",
       "      <td>1999.000000</td>\n",
       "      <td>22.000000</td>\n",
       "      <td>10.000000</td>\n",
       "      <td>29.000000</td>\n",
       "      <td>0.501245</td>\n",
       "      <td>268.000000</td>\n",
       "      <td>0.009143</td>\n",
       "      <td>245.000000</td>\n",
       "      <td>1988.000000</td>\n",
       "      <td>2006.000000</td>\n",
       "    </tr>\n",
       "    <tr>\n",
       "      <th>max</th>\n",
       "      <td>2009.000000</td>\n",
       "      <td>36.000000</td>\n",
       "      <td>22.000000</td>\n",
       "      <td>36.000000</td>\n",
       "      <td>1.031453</td>\n",
       "      <td>367.000000</td>\n",
       "      <td>0.377932</td>\n",
       "      <td>342.000000</td>\n",
       "      <td>2009.000000</td>\n",
       "      <td>2009.000000</td>\n",
       "    </tr>\n",
       "  </tbody>\n",
       "</table>\n",
       "</div>"
      ],
      "text/plain": [
       "             yrvar         hvar         jvar       hpjvar       covvar  \\\n",
       "count  7912.000000  7912.000000  7912.000000  7912.000000  7912.000000   \n",
       "mean   1994.866279    15.366279     6.267442    21.633721     0.420291   \n",
       "std       5.652031     9.071330     5.107145     9.071330     0.142618   \n",
       "min    1987.000000     1.000000     0.000000     1.000000     0.089425   \n",
       "25%    1990.000000     8.000000     2.000000    15.000000     0.318830   \n",
       "50%    1994.000000    15.000000     5.000000    22.000000     0.403844   \n",
       "75%    1999.000000    22.000000    10.000000    29.000000     0.501245   \n",
       "max    2009.000000    36.000000    22.000000    36.000000     1.031453   \n",
       "\n",
       "            wgtvar     covvarfd     wgtvarfd       cohort       yearpj  \n",
       "count  7912.000000  7084.000000  7084.000000  7912.000000  7912.000000  \n",
       "mean    232.583298     0.013806   213.861374  1980.500000  2001.133721  \n",
       "std      51.063007     0.059922    45.461811    10.059474     5.652031  \n",
       "min      81.000000    -0.117507    76.000000  1952.000000  1987.000000  \n",
       "25%     201.000000    -0.011552   186.000000  1973.000000  1997.000000  \n",
       "50%     239.000000    -0.001709   218.000000  1980.500000  2002.000000  \n",
       "75%     268.000000     0.009143   245.000000  1988.000000  2006.000000  \n",
       "max     367.000000     0.377932   342.000000  2009.000000  2009.000000  "
      ]
     },
     "execution_count": 9,
     "metadata": {},
     "output_type": "execute_result"
    }
   ],
   "source": [
    "# Clean the data\n",
    "# drop if missing value for the covariance\n",
    "covs_data = covs_data[covs_data.covvar.isnull() != True ]\n",
    "\n",
    "\n",
    "# Define sample period, range of ages, etc.\n",
    "year1 = 1987\n",
    "year2 = 1988\n",
    "yearT = 2009\n",
    "minAge = 25\n",
    "maxAge = 60\n",
    "# Define cohorts - those who were 25 in 1952 were 60 in 1987\n",
    "cohort1 = 1952  # first cohort\n",
    "cohortT = 2009  # last cohort\n",
    "# Put these parameters of the data in a tuple\n",
    "sample_params = (year1, yearT, cohort1, cohortT, minAge, maxAge)\n",
    "\n",
    "# * Create dummy variable Dj0, which equals 1 if jvar==0 and equals 0 otherwise\n",
    "covs_data['Dj0'] = covs_data['jvar'] == 0\n",
    "\n",
    "# ********************************************************************************\n",
    "# * Pick observations used for estimation\n",
    "# ********************************************************************************\n",
    "covs_data['cohort'] = covs_data['yrvar'] - covs_data['hvar'] + 1\n",
    "covs_data[(covs_data['cohort'] >= cohort1) & (covs_data['cohort'] <= cohortT)]\n",
    "covs_data[(covs_data['yrvar'] >= year1) & (covs_data['yrvar'] <= yearT)]\n",
    "\n",
    "# * Make sure that \"future\" years used to compute autocovariances do not fall\n",
    "# * outside of [year1,yearT] range:\n",
    "covs_data['yearpj'] = covs_data['cohort'] -1 + covs_data['hvar'] + covs_data['jvar']\n",
    "covs_data[(covs_data['yearpj'] >= year1) & (covs_data['yearpj'] <= yearT)]\n",
    "covs_data.describe()"
   ]
  },
  {
   "cell_type": "markdown",
   "metadata": {},
   "source": [
    "It appears these restrictions make no difference here - we had no missing values, no observations outside the potential ranges of values.\n",
    "\n",
    "## Theoretical covariances\n",
    "\n",
    "Now, let's define those theoretical covariances.  Recall, these are given by:\n",
    "\n",
    "  \\begin{equation*}\n",
    "    \\begin{split}\n",
    "      cov(a,t,k; \\Theta) & = \\sigma^{2}_{\\alpha} + \\psi^{k}var(p^{i}_{a,t}) + \\\\ & \\quad\\quad\\quad \\mathbf{1}[k=0](1+\\mathbf{1}[a\\geq2]\\theta^{2}_{1}+\\mathbf{1}[a\\geq3]\\theta^{2}_{2})\\sigma^{2}_{\\varepsilon} + \\\\\n",
    "      & \\quad\\quad\\quad \\mathbf{1}[k=1](\\theta_{1}+\\mathbf{1}[a\\geq2]\\theta_{1}\\theta_{2})\\sigma^{2}_{\\varepsilon} + \\\\\n",
    "      & \\quad\\quad\\quad \\mathbf{1}[k=2]\\theta_{2}\\sigma^{2}_{\\varepsilon}\n",
    "    \\end{split}\n",
    "  \\end{equation*}\n",
    "  \n",
    "There is a little more detail needed to compute $var(p^{i}_{a,t})$ (you can refer to DHPRV for more detail on this, but it can also be seen in the function we'll define below).  Let's call this function that returns the theoretical covariances `model_cov` and define it as:\n"
   ]
  },
  {
   "cell_type": "code",
   "execution_count": 10,
   "metadata": {},
   "outputs": [],
   "source": [
    "# Define function to compute theoretical covariances.\n",
    "def model_cov(Theta, sample_params):\n",
    "    '''\n",
    "    Compute model implied covariances given parameters.\n",
    "\n",
    "    Args:\n",
    "        Theta: A length 6 tuple, model parameters (sigma2_alpha,\n",
    "               sigma2_eta, sigma2_eps, psi, theta1, theta2)\n",
    "        args: A length X tuple, integers for age ranges\n",
    "\n",
    "    Returns:\n",
    "        covs_model: A dataframe with covariances for all years (t),\n",
    "                    ages (h), and leads (k)\n",
    "\n",
    "    '''\n",
    "\n",
    "    sigma2_alpha, sigma2_eta, sigma2_eps, psi, theta1, theta2 = Theta\n",
    "    year1, yearT, cohort1, cohortT, minAge, maxAge = sample_params\n",
    "\n",
    "    # Define age range - ages 25-60, inclusive is 36 years\n",
    "    ageRange = maxAge - minAge + 1\n",
    "\n",
    "    # compute var(p^{i}_{a,t})\n",
    "    varp = np.empty((cohortT - cohort1, ageRange + 1))\n",
    "    # add one to age range becaue python index 0, but use ages from data that start at 1\n",
    "    for cohort in range(cohort1, cohortT + 1):\n",
    "        for age in range(1, ageRange + 1):\n",
    "            yr = cohort + age - 1\n",
    "            yrm1  = yr - 1\n",
    "            yrm2  = yr - 2\n",
    "            agem1 = age - 1\n",
    "            if yr <= yearT:\n",
    "                if yr == year1:\n",
    "                    varp[yr - year1, age] = sigma2_eta * (1 - psi ** (2 * age)) / (1 - psi ** 2)\n",
    "                if age == 1:\n",
    "                    varp[yr - year1, age] = sigma2_eta\n",
    "                if age == 2:\n",
    "                    varp[yr - year1, age] = (psi ** 2) * varp[yrm1 - year1, agem1] + sigma2_eta\n",
    "                if age >= 3:\n",
    "                    varp[yr - year1, age] = (psi ** 2) * varp[yrm1 - year1, agem1] + sigma2_eta\n",
    "\n",
    "    # Compute theoretical covariancea\n",
    "    covs_dict = {'year': [], 'age': [], 'lead': [], 'cov': []}\n",
    "    for t in range(year1, yearT + 1):\n",
    "        maxK = yearT - t\n",
    "        for h in range(1, ageRange + 1):\n",
    "            for k in range(maxK + 1):\n",
    "                cov = (sigma2_alpha + ((psi ** k) * varp[t - year1, h]) +\n",
    "                       ((k==0) * (1 + ((h>=2) * (theta1 ** 2)) + ((h>=3) * (theta2 ** 2))) * sigma2_eps) +\n",
    "                       ((k==1) * (theta1 + ((h>=2) * theta1 * theta2)) * sigma2_eps) +\n",
    "                       ((k==2) * theta2 * sigma2_eps))\n",
    "                       # update dictionary\n",
    "                covs_dict['cov'].append(cov)\n",
    "                covs_dict['year'].append(t)\n",
    "                covs_dict['age'].append(h)\n",
    "                covs_dict['lead'].append(k)\n",
    "\n",
    "    # create dataframe with dictionary\n",
    "    covs_model = pd.DataFrame(covs_dict)\n",
    "\n",
    "    return covs_model"
   ]
  },
  {
   "cell_type": "markdown",
   "metadata": {},
   "source": [
    "## Define the statistical objective function\n",
    "\n",
    "Now we have the covariances from the data and a function that returns the model covariances for a given set of parameters.  Now we just need to define a statistical objective function that can be minimized.  In our case, the moment conditions can be represented by a set of residuals (the difference between the data and model moments).  We can thus use a nonlinear least squares estimator.  \n",
    "\n",
    "To estimate the model parameters via nonlinear least squares, we'll call the `scipy.optimize.least_squares()` method.  The function that is passed as an argument to this method is one that returns the vector of residuals. So we'll need our function to return the errors in these moment conditions.\n",
    "\n",
    "We name this function `resids()` and define it as follows:\n"
   ]
  },
  {
   "cell_type": "code",
   "execution_count": 11,
   "metadata": {},
   "outputs": [
    {
     "ename": "SyntaxError",
     "evalue": "invalid syntax (3346509260.py, line 16)",
     "output_type": "error",
     "traceback": [
      "\u001b[1;36m  Cell \u001b[1;32mIn[11], line 16\u001b[1;36m\u001b[0m\n\u001b[1;33m    covs_model =covs_model.\u001b[0m\n\u001b[1;37m                           ^\u001b[0m\n\u001b[1;31mSyntaxError\u001b[0m\u001b[1;31m:\u001b[0m invalid syntax\n"
     ]
    }
   ],
   "source": [
    "# Define function to return residuals - for nonlinear least squares estimator\n",
    "def resids(Theta, covs_data, sample_params):\n",
    "    '''\n",
    "    Compute the (weighted) residuals from the moment conditions.\n",
    "\n",
    "    Args:\n",
    "        covs_data: Dataframe of covariances from the data\n",
    "        covs_model: Dataframe of model implied covariances\n",
    "\n",
    "    Returns:\n",
    "        resids_wgt: Vector of weighted differences between the model and data moments\n",
    "    '''\n",
    "    # Find the model covariances impllied by parameter vector Theta\n",
    "    covs_model = model_cov(Theta, sample_params)\n",
    "    # rename the covariance variable in the model data frame\n",
    "    covs_model =covs_model.\n",
    "\n",
    "    # merge the two dataframes together\n",
    "    data_model = covs_data.merge(covs_model, how='left', left_on=['yrvar', 'hvar', 'jvar'],\n",
    "                                 right_on=['year', 'age', 'lead'], copy=True, indicator=False)\n",
    "\n",
    "    # compute the weighted differences between data and model covariances\n",
    "    # Note that use sqrt of the weight since it will be squares in f(x)=r^Tr\n",
    "    resids_wgt = np.array(((data_model['covvar'] - data_model['cov_model']) *\n",
    "                          (data_model['wgtvar'] ** (1 / 2))).values)\n",
    "\n",
    "\n",
    "    return resids_wgt"
   ]
  },
  {
   "cell_type": "markdown",
   "metadata": {},
   "source": [
    "## Call the optimization routine\n",
    "\n",
    "With the moment conditions not defined, we are almost ready to call our least squares estimator.  But before we do, we'll need to provide our initial guesses and set any bounds on the parameter estimates (if necessary)."
   ]
  },
  {
   "cell_type": "code",
   "execution_count": 12,
   "metadata": {},
   "outputs": [
    {
     "ename": "NameError",
     "evalue": "name 'resids' is not defined",
     "output_type": "error",
     "traceback": [
      "\u001b[1;31m---------------------------------------------------------------------------\u001b[0m",
      "\u001b[1;31mNameError\u001b[0m                                 Traceback (most recent call last)",
      "Cell \u001b[1;32mIn[12], line 11\u001b[0m\n\u001b[0;32m      6\u001b[0m bnds \u001b[38;5;241m=\u001b[39m ([\u001b[38;5;241m0\u001b[39m, \u001b[38;5;241m0\u001b[39m, \u001b[38;5;241m0\u001b[39m, \u001b[38;5;241m-\u001b[39mnp\u001b[38;5;241m.\u001b[39minf, \u001b[38;5;241m-\u001b[39mnp\u001b[38;5;241m.\u001b[39minf, \u001b[38;5;241m-\u001b[39mnp\u001b[38;5;241m.\u001b[39minf],\n\u001b[0;32m      7\u001b[0m         [np\u001b[38;5;241m.\u001b[39minf, np\u001b[38;5;241m.\u001b[39minf, np\u001b[38;5;241m.\u001b[39minf, np\u001b[38;5;241m.\u001b[39minf, np\u001b[38;5;241m.\u001b[39minf, np\u001b[38;5;241m.\u001b[39minf])\n\u001b[0;32m      9\u001b[0m \u001b[38;5;66;03m# Call minimzer to minimize the sum of square residuals\u001b[39;00m\n\u001b[0;32m     10\u001b[0m \u001b[38;5;66;03m# note the comma after covs_data - this is critical to pass the argument in the right way\u001b[39;00m\n\u001b[1;32m---> 11\u001b[0m nls_results \u001b[38;5;241m=\u001b[39m opt\u001b[38;5;241m.\u001b[39mleast_squares(resids, Theta0, bounds\u001b[38;5;241m=\u001b[39mbnds, method\u001b[38;5;241m=\u001b[39m\u001b[38;5;124m'\u001b[39m\u001b[38;5;124mtrf\u001b[39m\u001b[38;5;124m'\u001b[39m, args\u001b[38;5;241m=\u001b[39m(covs_data, sample_params))\n",
      "\u001b[1;31mNameError\u001b[0m: name 'resids' is not defined"
     ]
    }
   ],
   "source": [
    "# Initial guesses at the parameter values\n",
    "# Parameters are in order, sigma2_alpha, sigma2_eta, sigma2_eps, psi, theta1, theta2\n",
    "Theta0 = (0.1, 0.001, 0.1, 0.9, 0.0, 0.0)\n",
    "\n",
    "# Set bounds on parameters\n",
    "bnds = ([0, 0, 0, -np.inf, -np.inf, -np.inf],\n",
    "        [np.inf, np.inf, np.inf, np.inf, np.inf, np.inf])\n",
    "\n",
    "# Call minimzer to minimize the sum of square residuals\n",
    "# note the comma after covs_data - this is critical to pass the argument in the right way\n",
    "nls_results = opt.least_squares(resids, Theta0, bounds=bnds, method='trf', args=(covs_data, sample_params))"
   ]
  },
  {
   "cell_type": "markdown",
   "metadata": {},
   "source": [
    "## Results\n",
    "\n",
    "We'll now view the results.  The object returned from `scipy.optimize.least_squares()` is a dictionary with 12 key value pairs.  The dictionary includes the parameter estimates (key = `'x'`) and a lot of other information about the estimation such as whether the estimator converged, the number of function evaluations, the gradient and jacobian at the parameters estimate, and more.\n",
    "\n",
    "Let's take a look:"
   ]
  },
  {
   "cell_type": "code",
   "execution_count": 4,
   "metadata": {},
   "outputs": [
    {
     "ename": "NameError",
     "evalue": "name 'nls_results' is not defined",
     "output_type": "error",
     "traceback": [
      "\u001b[1;31m---------------------------------------------------------------------------\u001b[0m",
      "\u001b[1;31mNameError\u001b[0m                                 Traceback (most recent call last)",
      "Cell \u001b[1;32mIn[4], line 2\u001b[0m\n\u001b[0;32m      1\u001b[0m \u001b[38;5;66;03m# Show nonlinear least squares estimation results\u001b[39;00m\n\u001b[1;32m----> 2\u001b[0m nls_results[\u001b[38;5;124m'\u001b[39m\u001b[38;5;124mx\u001b[39m\u001b[38;5;124m'\u001b[39m]\n\u001b[0;32m      3\u001b[0m \u001b[38;5;28mdir\u001b[39m(nls_results)\n",
      "\u001b[1;31mNameError\u001b[0m: name 'nls_results' is not defined"
     ]
    }
   ],
   "source": [
    "# Show nonlinear least squares estimation results\n",
    "nls_results['x']\n",
    "dir(nls_results)"
   ]
  },
  {
   "cell_type": "markdown",
   "metadata": {},
   "source": [
    "## An alternative estimator\n",
    "\n",
    "We can also use a minimizer that is not specifically for a least squares problem.  In this case, we'll need to define our statistical objective function that we want to minimize.  We'll call this `ssr()` since it's the sum of squared residuals."
   ]
  },
  {
   "cell_type": "code",
   "execution_count": 14,
   "metadata": {},
   "outputs": [],
   "source": [
    "# Define the statistical objective function\n",
    "def ssr(Theta, covs_data, sample_params):\n",
    "    '''\n",
    "    Compute the (weighted) sum of squared residuals from the moment conditions.\n",
    "\n",
    "    Args:\n",
    "        covs_data: Dataframe of covariances from the data\n",
    "        covs_model: Dataframe of model implied covariances\n",
    "\n",
    "    Returns:\n",
    "        sumsq: Weighted sum of squared residuals showing difference\n",
    "                between data and model covariances.\n",
    "    '''\n",
    "\n",
    "    # Find the model covariances impllied by parameter vector Theta\n",
    "    covs_model = model_cov(Theta, sample_params)\n",
    "\n",
    "    # merge the two dataframes together\n",
    "    data_model = covs_data.merge(covs_model, how='left', left_on=['yrvar', 'hvar', 'jvar'],\n",
    "                                 right_on=['year', 'age', 'lead'], copy=True, indicator=False)\n",
    "\n",
    "    # compute differences between data and model covariances\n",
    "    data_model['resid'] = data_model['covvar'] - data_model['cov']\n",
    "\n",
    "    # compute weighted SSR\n",
    "    sumsq = ((data_model['resid'] ** 2) * (data_model['wgtvar'])).sum()\n",
    "\n",
    "    return sumsq"
   ]
  },
  {
   "cell_type": "markdown",
   "metadata": {},
   "source": [
    "Now we'll need to call the `ssr()` function through a minimization routine.  Here, we'll use a modified BFGS algorithm that will allow for bounds on the problem."
   ]
  },
  {
   "cell_type": "code",
   "execution_count": 15,
   "metadata": {},
   "outputs": [
    {
     "data": {
      "text/plain": [
       "  message: CONVERGENCE: RELATIVE REDUCTION OF F <= FACTR*EPSMCH\n",
       "  success: True\n",
       "   status: 0\n",
       "      fun: 8055.905176093121\n",
       "        x: [ 1.968e-01  2.928e-02  1.826e-01  9.623e-01  2.286e-01\n",
       "             1.231e-01]\n",
       "      nit: 46\n",
       "      jac: [ 4.547e-03  2.401e-02  2.092e-03  1.119e-02  4.547e-04\n",
       "             9.095e-05]\n",
       "     nfev: 406\n",
       "     njev: 58\n",
       " hess_inv: <6x6 LbfgsInvHessProduct with dtype=float64>"
      ]
     },
     "execution_count": 15,
     "metadata": {},
     "output_type": "execute_result"
    }
   ],
   "source": [
    "# Initial guesses at the parameter values\n",
    "Theta0 = (0.1, 0.001, 0.1, 0.9, 0.0, 0.0)\n",
    "\n",
    "# Set bounds on parameters\n",
    "bnds = ((0, None), (0, None), (0, None),\n",
    "        (None, None), (None, None), (None, None))\n",
    "\n",
    "# Use a general purpose minimizer to minimize the SSR\n",
    "min_results = opt.minimize(ssr, Theta0, args=(covs_data, sample_params),\n",
    "                           method=\"L-BFGS-B\", bounds=bnds, tol=1e-15)\n",
    "\n",
    "min_results"
   ]
  },
  {
   "cell_type": "code",
   "execution_count": 16,
   "metadata": {},
   "outputs": [
    {
     "data": {
      "application/vnd.microsoft.datawrangler.viewer.v0+json": {
       "columns": [
        {
         "name": "index",
         "rawType": "object",
         "type": "string"
        },
        {
         "name": "Estimate",
         "rawType": "float64",
         "type": "float"
        }
       ],
       "ref": "4798c428-a4c5-4c5f-9ca8-f1967473e165",
       "rows": [
        [
         "\\sigma^2_\\alpha",
         "0.19679029361521988"
        ],
        [
         "$\\sigma^2_\\eta$",
         "0.029276667950148463"
        ],
        [
         "$\\sigma^2_\\varepsilon$",
         "0.18261472279828855"
        ],
        [
         "$\\psi$",
         "0.9623427548335856"
        ],
        [
         "$\\theta_1$",
         "0.22857786325309826"
        ],
        [
         "$\\theta_2$",
         "0.12308510069922046"
        ]
       ],
       "shape": {
        "columns": 1,
        "rows": 6
       }
      },
      "text/html": [
       "<div>\n",
       "<style scoped>\n",
       "    .dataframe tbody tr th:only-of-type {\n",
       "        vertical-align: middle;\n",
       "    }\n",
       "\n",
       "    .dataframe tbody tr th {\n",
       "        vertical-align: top;\n",
       "    }\n",
       "\n",
       "    .dataframe thead th {\n",
       "        text-align: right;\n",
       "    }\n",
       "</style>\n",
       "<table border=\"1\" class=\"dataframe\">\n",
       "  <thead>\n",
       "    <tr style=\"text-align: right;\">\n",
       "      <th></th>\n",
       "      <th>Estimate</th>\n",
       "    </tr>\n",
       "  </thead>\n",
       "  <tbody>\n",
       "    <tr>\n",
       "      <th>\\sigma^2_\\alpha</th>\n",
       "      <td>0.196790</td>\n",
       "    </tr>\n",
       "    <tr>\n",
       "      <th>$\\sigma^2_\\eta$</th>\n",
       "      <td>0.029277</td>\n",
       "    </tr>\n",
       "    <tr>\n",
       "      <th>$\\sigma^2_\\varepsilon$</th>\n",
       "      <td>0.182615</td>\n",
       "    </tr>\n",
       "    <tr>\n",
       "      <th>$\\psi$</th>\n",
       "      <td>0.962343</td>\n",
       "    </tr>\n",
       "    <tr>\n",
       "      <th>$\\theta_1$</th>\n",
       "      <td>0.228578</td>\n",
       "    </tr>\n",
       "    <tr>\n",
       "      <th>$\\theta_2$</th>\n",
       "      <td>0.123085</td>\n",
       "    </tr>\n",
       "  </tbody>\n",
       "</table>\n",
       "</div>"
      ],
      "text/plain": [
       "                        Estimate\n",
       "\\sigma^2_\\alpha         0.196790\n",
       "$\\sigma^2_\\eta$         0.029277\n",
       "$\\sigma^2_\\varepsilon$  0.182615\n",
       "$\\psi$                  0.962343\n",
       "$\\theta_1$              0.228578\n",
       "$\\theta_2$              0.123085"
      ]
     },
     "execution_count": 16,
     "metadata": {},
     "output_type": "execute_result"
    }
   ],
   "source": [
    "min_results['x']\n",
    "# put in a dict and then Pandas DataFrame\n",
    "var_name_list = [r'\\sigma^2_\\alpha', r'$\\sigma^2_\\eta$', r'$\\sigma^2_\\varepsilon$', r'$\\psi$', r'$\\theta_1$', r'$\\theta_2$']\n",
    "# create dictionary\n",
    "est_dict = {}\n",
    "for i, name in enumerate(var_name_list):\n",
    "    est_dict[name] = min_results['x'][i]\n",
    "# create DataFrame\n",
    "est_df = pd.DataFrame(est_dict, index=['Estimate']).T\n",
    "est_df"
   ]
  },
  {
   "cell_type": "markdown",
   "metadata": {},
   "source": [
    "## Inference\n",
    "\n",
    "We'll omit the discussion of standard errors, but they can be computed using either the theoretical standard errors (which will rely on the Jacobian of the function) or via boostrapping."
   ]
  }
 ],
 "metadata": {
  "kernelspec": {
   "display_name": "base",
   "language": "python",
   "name": "python3"
  },
  "language_info": {
   "codemirror_mode": {
    "name": "ipython",
    "version": 3
   },
   "file_extension": ".py",
   "mimetype": "text/x-python",
   "name": "python",
   "nbconvert_exporter": "python",
   "pygments_lexer": "ipython3",
   "version": "3.13.5"
  }
 },
 "nbformat": 4,
 "nbformat_minor": 2
}
