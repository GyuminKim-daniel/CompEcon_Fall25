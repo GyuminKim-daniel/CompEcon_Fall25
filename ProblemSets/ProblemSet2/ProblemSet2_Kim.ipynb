{
 "cells": [
  {
   "cell_type": "markdown",
   "id": "f9448ff5",
   "metadata": {},
   "source": [
    "**Chapter 2 : The Standard Library**"
   ]
  },
  {
   "cell_type": "markdown",
   "id": "3d02b7ca",
   "metadata": {},
   "source": [
    "**Problem 1.** Write a function that accepts a list *L* and returns the minimum, maximum, and average of the entries of *L* (in that order). Can you implement this function in a single line?\n"
   ]
  },
  {
   "cell_type": "markdown",
   "id": "c6ed9b86",
   "metadata": {},
   "source": [
    "Yes, I can implement this function in a single line"
   ]
  },
  {
   "cell_type": "code",
   "execution_count": 16,
   "id": "63226c2d",
   "metadata": {},
   "outputs": [],
   "source": [
    "def list(L) : return min(L), max(L), sum(L)/len(L) "
   ]
  },
  {
   "cell_type": "markdown",
   "id": "7de9e442",
   "metadata": {},
   "source": [
    "**Problem 2.**  \n",
    "Determine which of Python's object types are mutable and which are immutable by repeating the following experiment for an <span style=\"color:blue\">int</span>, <span style=\"color:blue\">str</span>, <span style=\"color:blue\">list</span>, <span style=\"color:blue\">tuple</span>, and <span style=\"color:blue\">set</span>.\n"
   ]
  },
  {
   "cell_type": "markdown",
   "id": "defd89f7",
   "metadata": {},
   "source": [
    "1. Create an object of the given type and assign a name to it."
   ]
  },
  {
   "cell_type": "code",
   "execution_count": 17,
   "id": "21db5c7c",
   "metadata": {},
   "outputs": [],
   "source": [
    "integer = 1\n",
    "string = \"one\"\n",
    "list = [1,2,3]\n",
    "tuple = (1,2,3)\n",
    "set = {1,2,3}"
   ]
  },
  {
   "cell_type": "markdown",
   "id": "b1d0f35d",
   "metadata": {},
   "source": [
    "2. Assign a new name to the first name. "
   ]
  },
  {
   "cell_type": "code",
   "execution_count": 18,
   "id": "08cc2da2",
   "metadata": {},
   "outputs": [],
   "source": [
    "my_int = integer\n",
    "my_str= string\n",
    "my_list = list\n",
    "my_tuple = tuple\n",
    "my_set = set"
   ]
  },
  {
   "cell_type": "markdown",
   "id": "c05ec6e5",
   "metadata": {},
   "source": [
    "3. Alter the object via only one of the names (for tuples, use my_tuple += (1,))."
   ]
  },
  {
   "cell_type": "code",
   "execution_count": 19,
   "id": "0685c0c0",
   "metadata": {},
   "outputs": [],
   "source": [
    "my_int += 1\n",
    "my_str += \"plus\"\n",
    "my_list += [1,]\n",
    "my_tuple += (1,)\n",
    "my_set.add(4)"
   ]
  },
  {
   "cell_type": "markdown",
   "id": "e73c5ae1",
   "metadata": {},
   "source": [
    "4. Check to see if the two names are equal. If they are, then since changing one name changed the other, the names refer to the same object and the object type is mutable. Otherwise, the names refer to different objects-meaning a copy was made in step 2-and therefore the object type is immutable. Print a statement of your conclusions that clearly indicates which object types are mutable and which are immutable. "
   ]
  },
  {
   "cell_type": "code",
   "execution_count": 20,
   "id": "56960d7f",
   "metadata": {},
   "outputs": [
    {
     "name": "stdout",
     "output_type": "stream",
     "text": [
      "False\n",
      "False\n",
      "True\n",
      "False\n",
      "True\n",
      "Integer, string and tuple are immutable while list and set are mutable\n"
     ]
    }
   ],
   "source": [
    "print(my_int == integer)\n",
    "print(my_str == string)\n",
    "print(my_list == list)\n",
    "print(my_tuple == tuple)\n",
    "print(my_set == set)\n",
    "\n",
    "print(\"Integer, string and tuple are immutable while list and set are mutable\")"
   ]
  },
  {
   "cell_type": "markdown",
   "id": "675fdf10",
   "metadata": {},
   "source": [
    "**Problem 3.**  \n",
    "Create a module called calculator.py. Write a function that returns the sume of two arguments and a function that returns the product of two arguments. Also use import to add the sqrt() function from the math module to the namespace. When this file is either run or imported, nothing should be executed.\n",
    "\n",
    "In your solution file, import your new custom module. Write a function that accepts two numbers representing the lengths of th sides of a right triangle. Using only the functions from calculator.py, calculate and return the length of the hypotenuse of the triangle."
   ]
  },
  {
   "cell_type": "code",
   "execution_count": 21,
   "id": "c87d26f5",
   "metadata": {},
   "outputs": [
    {
     "name": "stdout",
     "output_type": "stream",
     "text": [
      "5.0\n"
     ]
    }
   ],
   "source": [
    "import calculator\n",
    "\n",
    "def hypotenuse(a,b):\n",
    "    return calculator.sqrt(calculator.sum(calculator.product(a,a),calculator.product(b,b)))\n",
    "\n",
    "print(hypotenuse(3,4))"
   ]
  },
  {
   "cell_type": "markdown",
   "id": "473ff0c7",
   "metadata": {},
   "source": [
    "**Chapter 4 : Introduction to NumPy\"**"
   ]
  },
  {
   "cell_type": "markdown",
   "id": "d2698568",
   "metadata": {},
   "source": [
    "**Problem 1.** There are two main ways to perform matrix multiplication in NumPy: with NumPy's dot() function(np.dot(A, B)), or with the @ operator (A @ B). Write a function that defines the following matrices as NumPy arrays.\n",
    "\n",
    "$$\n",
    "A = \\begin{bmatrix}\n",
    "3 & -1 & 4 \\\\\n",
    "1 & 5 & -9\n",
    "\\end{bmatrix}\n",
    "\\quad\n",
    "B = \\begin{bmatrix}\n",
    "2 & 6 & -5 & 3 \\\\\n",
    "5 & -8 & 9 & 7 \\\\\n",
    "9 & -3 & -2 & -3\n",
    "\\end{bmatrix}\n",
    "$$\n",
    "\n",
    "Return the matirx product AB.\n",
    "  For examples of array initialization and matrix multiplication, use objcet introspection in IPython to look up the documentation for np.ndarray, np.array() and np.dot().\n"
   ]
  },
  {
   "cell_type": "code",
   "execution_count": 22,
   "id": "8c5f566b",
   "metadata": {},
   "outputs": [
    {
     "name": "stdout",
     "output_type": "stream",
     "text": [
      "matrix product AB using np.dot():\n",
      " [[ 37  14 -32 -10]\n",
      " [-54  -7  58  65]]\n",
      "matrix product AB using @:\n",
      " [[ 37  14 -32 -10]\n",
      " [-54  -7  58  65]]\n"
     ]
    }
   ],
   "source": [
    "import numpy as np\n",
    "\n",
    "\n",
    "def matrix_A():\n",
    "    A = np.array([[3, -1,  4],\n",
    "                  [1,  5, -9]])\n",
    "    return A\n",
    "\n",
    "def matrix_B():\n",
    "    B = np.array([[2,  6, -5,  3],\n",
    "                  [5, -8,  9,  7],\n",
    "                  [9, -3, -2, -3]])\n",
    "    \n",
    "    return B\n",
    " \n",
    "A = matrix_A()\n",
    "B = matrix_B()\n",
    "\n",
    "multiply_dot = np.dot(A,B)\n",
    "\n",
    "print(\"matrix product AB using np.dot():\\n\", multiply_dot)\n",
    "\n",
    "multiply_at = A@B\n",
    "\n",
    "print(\"matrix product AB using @:\\n\", multiply_at)"
   ]
  },
  {
   "cell_type": "markdown",
   "id": "c449b3e8",
   "metadata": {},
   "source": [
    "**Problem 2.** Write a function that defines the following matrix as a NumPy array. \n",
    "$$\n",
    "A = \\begin{bmatrix}\n",
    "3 & -1 & 4 \\\\\n",
    "1 & 5 & -9\n",
    "\\end{bmatrix}\n",
    "$$\n",
    "\n",
    "Return the matirx $-A^3$ + $9A^2$ $-15A$.\n",
    " In this context, $A^2$ = $AA$ (the matrix product, not the component-wise square).  The somewhat surprising result is a demonstration of the Cayley-Hamilton theorem."
   ]
  },
  {
   "cell_type": "code",
   "execution_count": 23,
   "id": "300f2b20",
   "metadata": {},
   "outputs": [
    {
     "name": "stdout",
     "output_type": "stream",
     "text": [
      "Cayley-Hamilton theorem:\n",
      " [[0 0 0]\n",
      " [0 0 0]\n",
      " [0 0 0]]\n"
     ]
    }
   ],
   "source": [
    "import numpy as np\n",
    "\n",
    "def matrix_A():\n",
    "    A = np.array([[3, 1, 4],\n",
    "                  [1, 5, 9],\n",
    "                  [-5, 3, 1]])\n",
    "    return A\n",
    "\n",
    "def CHtheorem(A):\n",
    "    # Cayley–Hamilton form (example coefficients for illustration)\n",
    "    return -A @ A @ A + 9 * (A @ A) - 15 * A\n",
    "\n",
    "A = matrix_A()\n",
    "print(\"Cayley-Hamilton theorem:\\n\", CHtheorem(A))\n"
   ]
  },
  {
   "cell_type": "markdown",
   "id": "29c82116",
   "metadata": {},
   "source": [
    "**Problem 5.** Write a function that defines the following matrices as NumPy arrays. \n",
    "$$\n",
    "A = \\begin{bmatrix}\n",
    "0 & 2 & 4 \\\\\n",
    "1 & 3 & 5\n",
    "\\end{bmatrix}\n",
    "\\quad\n",
    "B = \\begin{bmatrix}\n",
    "3 & 0 & 0 \\\\\n",
    "3 & 3 & 0 \\\\\n",
    "3 & 3 & 3\n",
    "\\end{bmatrix}\n",
    "\\quad\n",
    "C = \\begin{bmatrix}\n",
    "-2 & 0 & 0 \\\\\n",
    "0 & -2 & 0 \\\\\n",
    "0 & 0 & -2\n",
    "\\end{bmatrix}\n",
    "$$\n",
    "\n",
    "Use Numpy's stacking functions to create and return the block matrix:\n",
    "$$\n",
    "\\begin{bmatrix}\n",
    "0 & A^T & I \\\\\n",
    "A & 0 & 0 \\\\\n",
    "B & 0 & C\n",
    "\\end{bmatrix}\n",
    "$$ ,\n",
    "where $I$ is the 3 x 3 identity matrix and each $0$ is a matrix of all zeros of appropriate size. A block matrix of this form is used in the Interior Point method for linear optimization"
   ]
  },
  {
   "cell_type": "code",
   "execution_count": 24,
   "id": "cdaf733a",
   "metadata": {},
   "outputs": [
    {
     "name": "stdout",
     "output_type": "stream",
     "text": [
      "Block matrix:\n",
      " [[ 0.  0.  0.  0.  1.  1.  0.  0.]\n",
      " [ 0.  0.  0.  2.  3.  0.  1.  0.]\n",
      " [ 0.  0.  0.  4.  5.  0.  0.  1.]\n",
      " [ 0.  2.  4.  0.  0.  0.  0.  0.]\n",
      " [ 1.  3.  5.  0.  0.  0.  0.  0.]\n",
      " [ 3.  0.  0.  0.  0. -2. -0. -0.]\n",
      " [ 3.  3.  0.  0.  0. -0. -2. -0.]\n",
      " [ 3.  3.  3.  0.  0. -0. -0. -2.]]\n"
     ]
    }
   ],
   "source": [
    "import numpy as np\n",
    "\n",
    "\n",
    "def matrix_A():\n",
    "    A = np.array([[0, 2,  4],\n",
    "                  [1,  3, 5]])\n",
    "    return A\n",
    "\n",
    "def matrix_B():\n",
    "    base = np.ones((3, 3))   \n",
    "    B = np.tril(base * 3)    \n",
    "    return B\n",
    "\n",
    "def matrix_C():\n",
    "    C = -2 * np.eye(3)   \n",
    "    return C\n",
    "\n",
    "def matrix_I(A):\n",
    "    I = np.eye(A.shape[1])\n",
    "    return I\n",
    "\n",
    "A = matrix_A()\n",
    "B = matrix_B()\n",
    "C = matrix_C()\n",
    "I = matrix_I(A)\n",
    "\n",
    "def block_matrix():\n",
    "    top = np.hstack([np.zeros((A.shape[1],A.shape[1])), A.T, I])\n",
    "    middle = np.hstack([A, np.zeros((A.shape[0], A.shape[0])), np.zeros((A.shape[0], A.shape[1]))])\n",
    "    bottom = np.hstack([B, np.zeros((B.shape[0], A.shape[0])), C])\n",
    "\n",
    "    Block = np.vstack([top,middle,bottom])\n",
    "    return Block\n",
    "\n",
    "print(\"Block matrix:\\n\", block_matrix())"
   ]
  },
  {
   "cell_type": "markdown",
   "id": "a4784a08",
   "metadata": {},
   "source": [
    "**Chapter 3 : Object-Oriented Programming\"**"
   ]
  },
  {
   "cell_type": "markdown",
   "id": "1dbd6554",
   "metadata": {},
   "source": [
    "**Problem 1.** Expand the $Backpack$ class to match the following specifications."
   ]
  },
  {
   "cell_type": "markdown",
   "id": "972901fe",
   "metadata": {},
   "source": [
    "1. Modify the constructor so that it accepts three total arguments: **name**, **color**, and **max_size** (in that order). Make **max_size** a keyword argument that defaults to 5. Stre each input as an attribute.  "
   ]
  },
  {
   "cell_type": "code",
   "execution_count": null,
   "id": "a3cc7dc4",
   "metadata": {},
   "outputs": [],
   "source": [
    "class Backpack:\n",
    "    def __init__(self,name,color,max_size=5):\n",
    "        self.name = name\n",
    "        self.color = color\n",
    "        self.max_size = max_size\n",
    "        self.contents = []"
   ]
  },
  {
   "cell_type": "markdown",
   "id": "e28b6b9d",
   "metadata": {},
   "source": [
    "2. Modify the **put()** method to check that the backpack does not go over capacity. If there are already **max_size** items or more, print \"No Room!\" and do not add the item to the contents list."
   ]
  },
  {
   "cell_type": "code",
   "execution_count": 26,
   "id": "e2c0e52b",
   "metadata": {},
   "outputs": [],
   "source": [
    "class Backpact:\n",
    "    def put(self, item):\n",
    "        if len(self.contents) >= self.max_size:\n",
    "            print(\"No Room!\")\n",
    "        else :\n",
    "            self.contents.append(item)"
   ]
  },
  {
   "cell_type": "markdown",
   "id": "8c20734a",
   "metadata": {},
   "source": [
    "3. Write a new method called **dump()** that resets the contents of the backpack to an empty list. This method should not receive any arguments (except self)."
   ]
  },
  {
   "cell_type": "code",
   "execution_count": 27,
   "id": "5a90c66c",
   "metadata": {},
   "outputs": [],
   "source": [
    "class Backpack:\n",
    "    def dump(self):\n",
    "        self.contents = []"
   ]
  },
  {
   "cell_type": "markdown",
   "id": "60c9277a",
   "metadata": {},
   "source": [
    "4. Documentation is especially important in classes so that the user knows what an object's attributes represent and how to use methods appropriately. Update (or write) the docstrings for the __init__(), put(), and dump() methods, as well as the actual class docstring (under class but before __init__()) to reflect the changes form parts **1-3** of this problem."
   ]
  },
  {
   "cell_type": "code",
   "execution_count": null,
   "id": "f85208b2",
   "metadata": {},
   "outputs": [],
   "source": [
    "class Backpack:\n",
    "    \"\"\"\n",
    "    A Backpack object that stores items up to a maximum capacity.\n",
    "\n",
    "    Attributes:\n",
    "        name (str): The name of the backpack.\n",
    "        color (str): The color of the backpack.\n",
    "        max_size (int): Maximum number of items allowed in the backpack (default = 5).\n",
    "        contents (list): The list of items currently in the backpack.\n",
    "\n",
    "    Methods:\n",
    "\n",
    "        __init__(self, name, color, max_size=5) :\n",
    "          Initializes a new Backpack with a name, color, and optional max_size.\n",
    "\n",
    "          Arguments:\n",
    "            name (str): The name of the backpack.\n",
    "            color (str): The color of the backpack.\n",
    "            max_size (int, optional): Maximum capacity of the backpack. Defaults to 5.\n",
    "\n",
    "          Operations:\n",
    "          \n",
    "            - Calls the Backpack constructor to set up name, color, and max_size.\n",
    "               \n",
    "            \n",
    "        put(self, item) :\n",
    "          adds an item to the backpack if there is room.\n",
    "\n",
    "          Arguments:\n",
    "            item (str): The item to be added.\n",
    "\n",
    "          Operations:\n",
    "            - If the backpack is already at or above capacity (max_size),\n",
    "              prints \"No Room!\" and does not add the item.\n",
    "            - Otherwise, appends the item to contents.\n",
    "    \n",
    "            \n",
    "        dump(self) :\n",
    "          empty the backpack by resetting its contents to an empty list.\n",
    "\n",
    "          Arguments:\n",
    "            None (only self is required)\n",
    "\n",
    "          Operations:\n",
    "            - Clears all items in contents.\n",
    "     \n",
    "\"\"\"\n",
    "\n",
    "    def __init__(self, name, color, max_size=5):\n",
    "    \n",
    "        self.name = name\n",
    "        self.color = color\n",
    "        self.max_size = max_size\n",
    "        self.contents = []\n",
    "\n",
    "    def put(self, item):\n",
    "    \n",
    "        if len(self.contents) >= self.max_size:\n",
    "            print(\"No Room!\")\n",
    "        else:\n",
    "            self.contents.append(item)\n",
    "\n",
    "    def dump(self):\n",
    "         self.contents = []\n"
   ]
  },
  {
   "cell_type": "markdown",
   "id": "e6e15e06",
   "metadata": {},
   "source": [
    "To ensure that your class works properly, write a test function outside outside of the **Backapck** class that instantiates and analyzes a **Backpack** object."
   ]
  },
  {
   "cell_type": "code",
   "execution_count": null,
   "id": "7ee34ff2",
   "metadata": {},
   "outputs": [
    {
     "name": "stdout",
     "output_type": "stream",
     "text": [
      "Contents: ['pencil']\n",
      "Contents: ['pencil', 'pen']\n",
      "Contents: ['pencil', 'pen', 'paper']\n",
      "Contents: ['pencil', 'pen', 'paper', 'computer']\n"
     ]
    },
    {
     "data": {
      "text/plain": [
       "'\\n\\nIt works well\\n\\n'"
      ]
     },
     "execution_count": 41,
     "metadata": {},
     "output_type": "execute_result"
    }
   ],
   "source": [
    "def test_backpack():\n",
    "    testpack = Backpack(\"Barry\", \"black\")\n",
    "    if testpack.name != \"Barry\":\n",
    "        print(\"Backpack.name assigned incorrectly\")\n",
    "    for item in [\"pencil\",\"pen\",\"paper\",\"computer\"]:\n",
    "        testpack.put(item)\n",
    "        print(\"Contents:\",testpack.contents)\n",
    "\n",
    "\n",
    "test_backpack()\n",
    "\n",
    "\n",
    "\"\"\"\n",
    "It works well\n",
    "\"\"\""
   ]
  },
  {
   "cell_type": "markdown",
   "id": "ad413b6c",
   "metadata": {},
   "source": [
    "**Problem 2.** Write a **Jetpack** class that inherits from the **Backpack** class."
   ]
  },
  {
   "cell_type": "markdown",
   "id": "8be066d9",
   "metadata": {},
   "source": [
    "1. Override the constructor so that in addtion to a name, color, and maximum size, it also accpets an amount of fuel. Change the default value of max_size to 2, and set the default value of fuel to 10. Store the fuel as an attribute. "
   ]
  },
  {
   "cell_type": "code",
   "execution_count": 29,
   "id": "bb70ffd8",
   "metadata": {},
   "outputs": [],
   "source": [
    "class Jetpack(Backpack) : \n",
    "    def __init__(self, name ,color, max_size=2,fuel =10) :\n",
    "        Backpack.__init__(self,name,color,max_size)\n",
    "        self.fuel = fuel\n",
    "        self.closed = True"
   ]
  },
  {
   "cell_type": "markdown",
   "id": "2ab47cb6",
   "metadata": {},
   "source": [
    "2. Add a **fly()** method that accepts an amount of fuel to be burned and decrements the fuel attribute by that amount. If the user tries to burn more fuel than remains, print \"Not enough fuel!\" and do not decrement the fuel."
   ]
  },
  {
   "cell_type": "code",
   "execution_count": 32,
   "id": "8486415f",
   "metadata": {},
   "outputs": [],
   "source": [
    "class Jetpack(Backpack) : \n",
    "    def fly(self, fuel_burned) :\n",
    "        if self.fuel < fuel_burned:\n",
    "            print(\"Not enough fuel!\")\n",
    "        else: \n",
    "            self.fuel -= fuel_burned"
   ]
  },
  {
   "cell_type": "markdown",
   "id": "aca9c338",
   "metadata": {},
   "source": [
    "3. Override the **dump()** method so that both the contents and the fuel tank are emptied."
   ]
  },
  {
   "cell_type": "code",
   "execution_count": 33,
   "id": "04afb39e",
   "metadata": {},
   "outputs": [],
   "source": [
    "class Jetpack(Backpack) : \n",
    "    def dump(self) :\n",
    "        self.contents = []\n",
    "        self.fuel = 0"
   ]
  },
  {
   "cell_type": "markdown",
   "id": "49a52916",
   "metadata": {},
   "source": [
    "4. Write clear, detailed docstrings for the class and each of its methods."
   ]
  },
  {
   "cell_type": "code",
   "execution_count": 42,
   "id": "3d4b7b60",
   "metadata": {},
   "outputs": [],
   "source": [
    "class Jetpack(Backpack):\n",
    "    \"\"\"\n",
    "    A Jetpack is a subclass of Backpack that carries fuel, which is not from Backpack.\n",
    "    It inherits all functionality from the Backpack class but adds operations for fuel, which is \"fly\" function.\n",
    "\n",
    "    Attributes:\n",
    "        name (str): The name of the Jetpack (inherited from Backpack).\n",
    "        color (str): The color of the Jetpack (inherited from Backpack).\n",
    "        max_size (int): Maximum number of items allowed in the Jetpack (default = 2, which is smaller than Backpack).\n",
    "        contents (list): A list of items currently in the Jetpack (inherited from Backpack).\n",
    "        fuel (int): The current amount of fuel stored in the Jetpack (default = 10).\n",
    "\n",
    "    Methods:\n",
    "\n",
    "        __init__(self, name, color, max_size=2) :\n",
    "          Initializes a new Jetpack with a name, color, and optional max_size.\n",
    "\n",
    "          Arguments:\n",
    "            name (str): The name of the Jetpack (inherited from Backpack).\n",
    "            color (str): The color of the Jetpack (inherited from Backpack).\n",
    "            max_size (int): Maximum number of items allowed in the Jetpack (default = 2, which is smaller than Backpack).\n",
    "            fuel (int): The current amount of fuel stored in the Jetpack (default = 10).\n",
    "          \n",
    "          Operations:\n",
    "            - Calls the Backpack constructor to set up name, color, and max_size.\n",
    "            - Initializes the fuel attribute with the given value. \n",
    "           \n",
    "        fly(self, fuel-burned) :\n",
    "          Consume fuel which remains.\n",
    "\n",
    "         Arguments:\n",
    "            fuel_burned (int): The amount of fuel to use \n",
    "\n",
    "         Operations:\n",
    "            - If there is not enough fuel (fuel < fuel_burned),\n",
    "              prints \"Not enough fuel!\" and does not reduce fuel.\n",
    "            - Otherwise, decreases the fuel by fuel_burned.\n",
    "            \n",
    "                 \n",
    "        dump(self) :\n",
    "          empty the Jetpack by resetting its contents to an empty list and set fuel zero.\n",
    "\n",
    "         Arguments:\n",
    "            None (only self is required)\n",
    "\n",
    "         Operations:\n",
    "            - Clears all items in contents.\n",
    "            - Set fuel to 0.     \n",
    "     \n",
    "\n",
    "    \"\"\"\n",
    "\n",
    "    def __init__(self, name ,color, max_size=2,fuel =10) :\n",
    "        Backpack.__init__(self,name,color,max_size)\n",
    "        self.fuel = fuel\n",
    "        self.closed = True\n",
    "\n",
    "    def fly(self, fuel_burned):\n",
    "       \n",
    "        if self.fuel < fuel_burned:\n",
    "            print(\"Not enough fuel!\")\n",
    "        else:\n",
    "            self.fuel -= fuel_burned\n",
    "        \n",
    "    def dump(self):\n",
    "        self.contents = []\n",
    "        self.fuel = 0\n"
   ]
  }
 ],
 "metadata": {
  "kernelspec": {
   "display_name": "base",
   "language": "python",
   "name": "python3"
  },
  "language_info": {
   "codemirror_mode": {
    "name": "ipython",
    "version": 3
   },
   "file_extension": ".py",
   "mimetype": "text/x-python",
   "name": "python",
   "nbconvert_exporter": "python",
   "pygments_lexer": "ipython3",
   "version": "3.13.5"
  }
 },
 "nbformat": 4,
 "nbformat_minor": 5
}
